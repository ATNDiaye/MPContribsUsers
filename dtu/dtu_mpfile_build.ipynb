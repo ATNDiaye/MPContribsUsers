{
 "cells": [
  {
   "cell_type": "code",
   "execution_count": 1,
   "metadata": {
    "collapsed": true
   },
   "outputs": [],
   "source": [
    "import pymatgen\n"
   ]
  },
  {
   "cell_type": "code",
   "execution_count": 2,
   "metadata": {
    "collapsed": false
   },
   "outputs": [],
   "source": [
    "import ase.db"
   ]
  },
  {
   "cell_type": "code",
   "execution_count": 3,
   "metadata": {
    "collapsed": true
   },
   "outputs": [],
   "source": [
    "import numpy as np"
   ]
  },
  {
   "cell_type": "code",
   "execution_count": 4,
   "metadata": {
    "collapsed": true
   },
   "outputs": [],
   "source": [
    "import collections as coll"
   ]
  },
  {
   "cell_type": "code",
   "execution_count": 5,
   "metadata": {
    "collapsed": false
   },
   "outputs": [
    {
     "name": "stdout",
     "output_type": "stream",
     "text": [
      "--2017-06-15 22:02:27--  https://cmr.fysik.dtu.dk/_downloads/mp_gllbsc.db\n",
      "Resolving cmr.fysik.dtu.dk (cmr.fysik.dtu.dk)... 130.225.86.24, 2001:878:200:2010:3::24\n",
      "Connecting to cmr.fysik.dtu.dk (cmr.fysik.dtu.dk)|130.225.86.24|:443... connected.\n",
      "HTTP request sent, awaiting response... 200 OK\n",
      "Length: 4542464 (4.3M) [text/plain]\n",
      "Saving to: ‘mp_gllbsc.db.6’\n",
      "\n",
      "mp_gllbsc.db.6      100%[=====================>]   4.33M  1.30MB/s   in 4.2s   \n",
      "\n",
      "2017-06-15 22:02:32 (1.03 MB/s) - ‘mp_gllbsc.db.6’ saved [4542464/4542464]\n",
      "\n"
     ]
    }
   ],
   "source": [
    "!wget https://cmr.fysik.dtu.dk/_downloads/mp_gllbsc.db"
   ]
  },
  {
   "cell_type": "code",
   "execution_count": 6,
   "metadata": {
    "collapsed": false
   },
   "outputs": [],
   "source": [
    "con = ase.db.connect('mp_gllbsc.db')"
   ]
  },
  {
   "cell_type": "code",
   "execution_count": 7,
   "metadata": {
    "collapsed": false
   },
   "outputs": [],
   "source": [
    "from mpcontribs.io.archieml.mpfile import MPFile  "
   ]
  },
  {
   "cell_type": "code",
   "execution_count": 8,
   "metadata": {
    "collapsed": false
   },
   "outputs": [],
   "source": [
    "s = \"\"\"\n",
    "title: GLLB-SC Bandgaps\n",
    "references.AEM: Advanced Energy Materials, Juli 22, 2014\n",
    "references.PRA: O. Gritsenko, R. van  Leeuwen, E. van Lenthe, E. J. Baerends, Phys. Rev. A 1995, 51, 1944.  \n",
    "references.PRB: M. Kuisma, J. Ojanen, J. Enkovaara, T. T. Rantala, Phys. Rev. B 2010, 82, 115106.  \n",
    "\n",
    "contributor : Technical University of Denmark\n",
    "authors: Ivano E. Castelli, Falco Hueser, Mohnish Pandey, Hong Li, Kristian S. Thygesen, Brian Seger, Anubhav Jain, Kristin A. Persson, Gerbrand Ceder, and Karsten W. Jacobsen   \n",
    "explanation: Bandgaps calculated using GLLB-SC potential by Gritsenko, van Leeuwen, van Lenthe, and Baerends (GLLB), adapted by Kuisma et al to account for solids (-SC). The Kohn-Sham gap most basically refers to the energy difference between the bottom of the conduction band and the top of the valence band. The Quasi-Particle gap takes into account the derivative discontinuity of the chemical potential and gives the bandgap as the difference between ionization potenital and electron affinity. \n",
    "\n",
    "\"\"\"\n"
   ]
  },
  {
   "cell_type": "code",
   "execution_count": 9,
   "metadata": {
    "collapsed": false
   },
   "outputs": [],
   "source": [
    "mpfile = MPFile.from_string(s)\n",
    "count = 0\n",
    "for row in con.select('mpid'):\n",
    "    d = coll.OrderedDict([])\n",
    "    d['Kohn-Sham_Bandgap'] = coll.OrderedDict([])\n",
    "    d['Derivative_Discontinuity'] = coll.OrderedDict([]) \n",
    "    d['Quasi-Particle_Bandgap'] = coll.OrderedDict([])\n",
    "    count = count + 1\n",
    "    mpid = 'mp-' + str(row.mpid)\n",
    "    d['Kohn-Sham_Bandgap']['Indirect'] = row.gllbsc_ind_gap - row.gllbsc_disc\n",
    "    d['Kohn-Sham_Bandgap']['Direct'] = row.gllbsc_dir_gap - row.gllbsc_disc\n",
    "    d['Derivative_Discontinuity'] = row.gllbsc_disc\n",
    "    d['Quasi-Particle_Bandgap']['Indirect'] = row.gllbsc_ind_gap\n",
    "    d['Quasi-Particle_Bandgap']['Direct'] = row.gllbsc_dir_gap\n",
    "    mpfile.add_hierarchical_data(mpid,d) \n",
    "    if count == 10:\n",
    "        break\n",
    "        \n",
    "     \n",
    "       \n",
    " \n",
    "\n"
   ]
  },
  {
   "cell_type": "code",
   "execution_count": 81,
   "metadata": {
    "collapsed": false,
    "scrolled": true
   },
   "outputs": [
    {
     "name": "stdout",
     "output_type": "stream",
     "text": [
      "            0         1         2         3         4         5   6\n",
      "141     978.0  0.192432  0.192432  0.000000  0.192432  0.192432  db\n",
      "380    2715.0  0.099083  0.275283  0.035726  0.134809  0.311009  db\n",
      "714    4964.0  0.151526  0.151526  0.000000  0.151526  0.151526  db\n",
      "1078   7433.0  0.138722  0.138722  0.000000  0.138722  0.138722  db\n",
      "1447   8716.0  0.086541  0.180582  0.041120  0.127662  0.221702  db\n",
      "2011  12277.0  0.099811  0.261069  0.044124  0.143936  0.305194  db\n",
      "2308  15252.0  0.159021  0.159021  0.000000  0.159021  0.159021  db\n",
      "2335  15642.0  0.125268  0.125268  0.000000  0.125268  0.125268  db\n",
      "2336  15643.0  0.106370  0.106370  0.000000  0.106370  0.106370  db\n",
      "2383  16238.0  0.176788  0.176788  0.000000  0.176788  0.176788  db\n",
      "2490  17173.0  0.142810  0.142810  0.000000  0.142810  0.142810  db\n",
      "2805  18988.0  0.093902  0.126566  0.050591  0.144493  0.177157  db\n",
      "2990  20740.0  0.165212  0.165212  0.000000  0.165212  0.165212  db\n",
      "2997  20809.0  0.086727  0.106920  0.035359  0.122086  0.142279  db\n",
      "3086  22386.0  0.168439  0.168439  0.000000  0.168439  0.168439  db\n",
      "4221  30828.0  0.116223  0.128993  0.000000  0.116223  0.128993  db\n",
      "4306  31593.0  0.165268  0.176595  0.000000  0.165268  0.176595  db\n",
      "4313  32447.0  0.107207  0.141643  0.000000  0.107207  0.141643  db\n"
     ]
    }
   ],
   "source": [
    "import pandas as pd\n",
    "data1 = np.loadtxt('dtu_gllbsc_gaps.txt')\n",
    "data_txt = pd.DataFrame(data1)\n",
    "data_txt = data_txt.sort_values(0)\n",
    "data = []\n",
    "for row in con.select('mpid'):\n",
    "    data.append([row.mpid, row.gllbsc_ind_gap - row.gllbsc_disc, row.gllbsc_dir_gap - row.gllbsc_disc, row.gllbsc_disc,\n",
    "                row.gllbsc_ind_gap, row.gllbsc_dir_gap])\n",
    "\n",
    "\n",
    "  \n",
    "data_db = pd.DataFrame(data)\n",
    "data_db = data_db.sort_values(0)\n",
    "\n",
    "\n",
    "data_txt['6'] = 'txt'\n",
    "data_db['6'] = 'db'\n",
    "data_all = pd.concat([data_txt,data_db])\n",
    "data_all = data_all.sort_values(0)\n",
    "data_all = data_all.reset_index(drop=True)\n",
    "data_all = data_all.drop(data_all.index[[0]]) \n",
    "missing_mp = data_all.drop_duplicates(keep = False, subset = 0)\n",
    "print(missing_mp)\n",
    "\n",
    "\n",
    "\n",
    "    "
   ]
  },
  {
   "cell_type": "code",
   "execution_count": null,
   "metadata": {
    "collapsed": false
   },
   "outputs": [],
   "source": [
    "mpfile"
   ]
  }
 ],
 "metadata": {
  "kernelspec": {
   "display_name": "Python 2",
   "language": "python",
   "name": "python2"
  },
  "language_info": {
   "codemirror_mode": {
    "name": "ipython",
    "version": 2
   },
   "file_extension": ".py",
   "mimetype": "text/x-python",
   "name": "python",
   "nbconvert_exporter": "python",
   "pygments_lexer": "ipython2",
   "version": "2.7.12"
  }
 },
 "nbformat": 4,
 "nbformat_minor": 1
}
