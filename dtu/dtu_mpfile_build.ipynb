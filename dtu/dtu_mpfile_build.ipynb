{
 "cells": [
  {
   "cell_type": "code",
   "execution_count": null,
   "metadata": {
    "collapsed": true
   },
   "outputs": [],
   "source": [
    "import pymatgen"
   ]
  },
  {
   "cell_type": "code",
   "execution_count": null,
   "metadata": {
    "collapsed": false
   },
   "outputs": [],
   "source": [
    "import ase.db"
   ]
  },
  {
   "cell_type": "code",
   "execution_count": null,
   "metadata": {
    "collapsed": true
   },
   "outputs": [],
   "source": [
    "import numpy as np"
   ]
  },
  {
   "cell_type": "code",
   "execution_count": null,
   "metadata": {
    "collapsed": true
   },
   "outputs": [],
   "source": [
    "import collections as coll"
   ]
  },
  {
   "cell_type": "code",
   "execution_count": null,
   "metadata": {
    "collapsed": false
   },
   "outputs": [],
   "source": [
    "!wget https://cmr.fysik.dtu.dk/_downloads/mp_gllbsc.db"
   ]
  },
  {
   "cell_type": "code",
   "execution_count": null,
   "metadata": {
    "collapsed": false
   },
   "outputs": [],
   "source": [
    "con = ase.db.connect('mp_gllbsc.db')"
   ]
  },
  {
   "cell_type": "code",
   "execution_count": null,
   "metadata": {
    "collapsed": false
   },
   "outputs": [],
   "source": [
    "from mpcontribs.io.archieml.mpfile import MPFile  "
   ]
  },
  {
   "cell_type": "code",
   "execution_count": null,
   "metadata": {
    "collapsed": false
   },
   "outputs": [],
   "source": [
    "s = \"\"\"\n",
    "title: GLLB-SC Bandgaps\n",
    "references.AEM: Advanced Energy Materials, Juli 22, 2014\n",
    "references.PRA: O. Gritsenko, R. van  Leeuwen, E. van Lenthe, E. J. Baerends, Phys. Rev. A 1995, 51, 1944.  \n",
    "references.PRB: M. Kuisma, J. Ojanen, J. Enkovaara, T. T. Rantala, Phys. Rev. B 2010, 82, 115106.  \n",
    "\n",
    "contributor : Technical University of Denmark\n",
    "authors: Ivano E. Castelli, Falco Hueser, Mohnish Pandey, Hong Li, Kristian S. Thygesen, Brian Seger, Anubhav Jain, Kristin A. Persson, Gerbrand Ceder, and Karsten W. Jacobsen   \n",
    "explanation: Bandgaps calculated using GLLB-SC potential by Gritsenko, van Leeuwen, van Lenthe, and Baerends (GLLB), adapted by Kuisma et al to account for solids (-SC). The Kohn-Sham gap most basically refers to the energy difference between the bottom of the conduction band and the top of the valence band. The Quasi-Particle gap takes into account the derivative discontinuity of the chemical potential and gives the bandgap as the difference between ionization potenital and electron affinity. \n",
    "\"\"\""
   ]
  },
  {
   "cell_type": "code",
   "execution_count": null,
   "metadata": {
    "collapsed": false
   },
   "outputs": [],
   "source": [
    "mpfile = MPFile.from_string(s)\n",
    "count = 0\n",
    "x=y=z=w= []\n",
    "for row in con.select('mpid'):\n",
    "    d = coll.OrderedDict([])\n",
    "    d['Kohn-Sham_Bandgap'] = coll.OrderedDict([])\n",
    "    d['Derivative_Discontinuity'] = coll.OrderedDict([]) \n",
    "    d['Quasi-Particle_Bandgap'] = coll.OrderedDict([])\n",
    "    count = count + 1\n",
    "    mpid = 'mp-' + str(row.mpid)\n",
    "    d['Kohn-Sham_Bandgap']['Indirect'] = row.gllbsc_ind_gap - row.gllbsc_disc\n",
    "    d['Kohn-Sham_Bandgap']['Direct'] = row.gllbsc_dir_gap - row.gllbsc_disc\n",
    "    d['Derivative_Discontinuity'] = row.gllbsc_disc\n",
    "    d['Quasi-Particle_Bandgap']['Indirect'] = row.gllbsc_ind_gap\n",
    "    d['Quasi-Particle_Bandgap']['Direct'] = row.gllbsc_dir_gap\n",
    "    mpfile.add_hierarchical_data(d, identifier=mpid) \n",
    "    if count == 10:\n",
    "        break"
   ]
  },
  {
   "cell_type": "code",
   "execution_count": null,
   "metadata": {
    "collapsed": false
   },
   "outputs": [],
   "source": [
    "import plotly\n",
    "import plotly.graph_objs as go\n",
    "from plotly.offline import download_plotlyjs, init_notebook_mode, plot, iplot\n",
    "plotly.offline.init_notebook_mode(connected = True) \n",
    "\n",
    "x1 = [row.mpid for row in con.select('mpid')]\n",
    "y1 = [row.gllbsc_disc for row in con.select('mpid')]\n",
    "y2 = [row.gllbsc_ind_gap for row in con.select('mpid')]\n",
    "y3 = [row.gllbsc_dir_gap for row in con.select('mpid')]\n",
    "                 \n",
    "trace_1 = go.Bar(x = x1[0:10], y = y1[0:10], name = 'derivative_discontinuity') \n",
    "trace_2 = go.Bar(x = x1[0:10], y = y2[0:10], name = 'quasi-particle_bandgap(indirect)')\n",
    "trace_3 = go.Bar(x = x1[0:10], y = y3[0:10], name = 'quasi-particle_bandgap(direct)')\n",
    "\n",
    "\n",
    "data = [trace_1, trace_2, trace_3]\n",
    "layout = go.Layout(barmode='stack', xaxis= dict(title= 'mp-id', type= 'category'), yaxis= dict(title= 'Energy (eV)'))\n",
    "fig = go.Figure(data=data, layout=layout) \n",
    "stacked_bar = iplot(fig, filename='stacked-bar')"
   ]
  }
 ],
 "metadata": {
  "kernelspec": {
   "display_name": "Python 2",
   "language": "python",
   "name": "python2"
  },
  "language_info": {
   "codemirror_mode": {
    "name": "ipython",
    "version": 2
   },
   "file_extension": ".py",
   "mimetype": "text/x-python",
   "name": "python",
   "nbconvert_exporter": "python",
   "pygments_lexer": "ipython2",
   "version": "2.7.12"
  }
 },
 "nbformat": 4,
 "nbformat_minor": 1
}
